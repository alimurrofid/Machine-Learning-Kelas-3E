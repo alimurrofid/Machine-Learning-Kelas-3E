{
 "cells": [
  {
   "cell_type": "markdown",
   "metadata": {},
   "source": [
    "# **Praktikum  1**\n",
    "\n",
    "Klasifikasi 🐱 dan 🐶\n",
    "\n",
    "#### **Deskripsi**\n",
    "\n",
    "Pada praktikum ini kita akan membuat model klasifikasi CNN sederhana pada kasus citra kucing dan anjing.\n",
    "\n",
    "#### **Dataset**\n",
    "\n",
    "Dataset merupakan data citra anjing dan kucing yang telah dibagi menjadi data training dan data testing. Dikarenakan data cukup besar, pastikan koneksi Anda sebelum mengunduh dataset.\n",
    "\n",
    "▶️[DOWNLOAD](https://drive.google.com/file/d/1vYrqBI1VmiXXJd5sgtKK2nuQvC8T1ryb/view)◀️\n",
    "\n",
    "\n",
    "#### **Langkah 1 - Import Library**"
   ]
  },
  {
   "cell_type": "code",
   "execution_count": null,
   "metadata": {},
   "outputs": [],
   "source": [
    "import tensorflow as tf ## Mengimpor TensorFlow, sebuah library yang digunakan untuk machine learning dan deep learning.\n",
    "from keras.preprocessing.image import ImageDataGenerator ## Mengimpor ImageDataGenerator dari modul preprocessing.image di Keras. ImageDataGenerator digunakan untuk mempersiapkan dan meningkatkan dataset gambar untuk pelatihan mode."
   ]
  },
  {
   "cell_type": "markdown",
   "metadata": {},
   "source": [
    "#### **Langkah 2 - Pra Pengolahan Data**\n",
    "\n",
    "Pada tahap ini kita akan sedikit melakukan manipulasi pada citra yang digunakan. Manipulasi yang dilakukan diantaranya adalah normalisasi nilai piksel, koreksi kemiringan, pembesaran (zoom), dan flip\n",
    "\n",
    "**Langkah 2.1. Pra Pengolahan Data Training**"
   ]
  },
  {
   "cell_type": "code",
   "execution_count": null,
   "metadata": {},
   "outputs": [],
   "source": [
    "## Melakukan augmentasi data, seperti penskalaan ulang, pergeseran shear, perbesaran (zoom), dan flip horizontal pada gambar. Ini membantu dalam menciptakan variasi data agar model dapat belajar dari variasi yang lebih banyak.\n",
    "train_datagen = ImageDataGenerator(rescale = 1./255,\n",
    "                                   shear_range = 0.2,\n",
    "                                   zoom_range = 0.2,\n",
    "                                   horizontal_flip = True)\n",
    "\n",
    "## Memuat gambar-gambar dari direktori yang spesifik. \n",
    "training_set = train_datagen.flow_from_directory('dataset/training_set',\n",
    "                                                 target_size = (64, 64),\n",
    "                                                 batch_size = 32,\n",
    "                                                 class_mode = 'binary')"
   ]
  },
  {
   "cell_type": "markdown",
   "metadata": {},
   "source": [
    "**Langkah 2.2. Pra Pengolahan Data Testing**"
   ]
  },
  {
   "cell_type": "code",
   "execution_count": null,
   "metadata": {},
   "outputs": [],
   "source": [
    "## Membuat instance objek yang akan memproses data gambar dibantu oleh test_datagen dengan melakukan penskalaan ulang gambar ke rentang 0-1 lalu digenerator dan memuat data gambar pada direktori \"dataset/test_set\" lalu mengubahnya menjadi ukuran yang ditentukan (64x64) dan dibagi menjadi batch sebesar 32. \n",
    "test_datagen = ImageDataGenerator(rescale = 1./255)\n",
    "test_set = test_datagen.flow_from_directory('dataset/test_set',\n",
    "                                            target_size = (64, 64),\n",
    "                                            batch_size = 32,\n",
    "                                            class_mode = 'binary')"
   ]
  },
  {
   "cell_type": "markdown",
   "metadata": {},
   "source": [
    "#### **Langkah 2 - Pra Pengolahan Data**\n",
    "\n",
    "**Langkah 3.1.  - Inisiasi Model CNN**"
   ]
  },
  {
   "cell_type": "code",
   "execution_count": null,
   "metadata": {},
   "outputs": [],
   "source": [
    "## Membuat model neural network kosong menggunakan Keras.\n",
    "cnn = tf.keras.models.Sequential()"
   ]
  },
  {
   "cell_type": "markdown",
   "metadata": {},
   "source": [
    "**Langkah 3.2. - Pembuatan Layer Konvolusi 1**"
   ]
  },
  {
   "cell_type": "code",
   "execution_count": null,
   "metadata": {},
   "outputs": [],
   "source": [
    "## Menambahkan lapisan konvolusi ke dalam model Neural Network yang dimana lapisan ini memiliki 32 filter, menggunakan kernel berukuran 3x3, beraktivasi ReLU, dan mengharapkan input berukuran 64x64 dengan 3 saluran warna (RGB) dengan fungsi untuk mengekstraksi fitur dari data gambar dalam proses pelatihan model.\n",
    "cnn.add(tf.keras.layers.Conv2D(filters=32, kernel_size=3, activation='relu', input_shape=[64, 64, 3]))"
   ]
  },
  {
   "cell_type": "markdown",
   "metadata": {},
   "source": [
    "**Langkah 3.3 - Pembuatan Layer Pooling 1**"
   ]
  },
  {
   "cell_type": "code",
   "execution_count": null,
   "metadata": {},
   "outputs": [],
   "source": [
    "## Menambahkan lapisan pooling pada jaringan saraf dengan ukuran jendela pooling 2x2 lalu menunjukkan perpindahan strides sebesar 2 piksel. Lapisan MaxPooling akan mereduksi dimensi spasial (tinggi dan lebar) dari data yang diberikan kepadanya dengan faktor 2.\n",
    "cnn.add(tf.keras.layers.MaxPool2D(pool_size=2, strides=2))"
   ]
  },
  {
   "cell_type": "markdown",
   "metadata": {},
   "source": [
    "**Langkah 3.4 - Pembuatan Layer Konvolusi 2 dan Pooling 2**"
   ]
  },
  {
   "cell_type": "code",
   "execution_count": null,
   "metadata": {},
   "outputs": [],
   "source": [
    "## Menambahkan lapisan konvolusi ke dalam jaringan yang dimana lapisan ini memiliki 32 filter yang menerapkan konvolusi pada input menggunakan kernel berukuran 3x3 dengan fungsi aktivasi yang digunakan adalah ReLU (Rectified Linear Activation), yang mengaktifkan neuron jika nilainya positif.\n",
    "cnn.add(tf.keras.layers.Conv2D(filters=32, kernel_size=3, activation='relu'))\n",
    "\n",
    "## Menambahkan lapisan max pooling ke dalam jaringan yang dimana lapisan mengurangi dimensi spasial dari lapisan sebelumnya (umumnya hasil dari lapisan konvolusi) dengan mengambil nilai maksimum dari setiap jendela berukuran 2x2 menggunakan langkah 2.\n",
    "cnn.add(tf.keras.layers.MaxPool2D(pool_size=2, strides=2))"
   ]
  },
  {
   "cell_type": "markdown",
   "metadata": {},
   "source": [
    "**Langkah 3.5 - Flattening**"
   ]
  },
  {
   "cell_type": "code",
   "execution_count": null,
   "metadata": {},
   "outputs": [],
   "source": [
    "## Menambahkan lapisan Flatten ke dalam model neural network yang dimana berfungsi untuk mengubah data dari format matriks multidimensi ke dalam format vektor satu dimensi, sehingga dapat disiapkan untuk dimasukkan ke lapisan Dense (lapisan yang terhubung sepenuhnya) selanjutnya dalam model neural network.\n",
    "cnn.add(tf.keras.layers.Flatten())"
   ]
  },
  {
   "cell_type": "markdown",
   "metadata": {},
   "source": [
    "**Langkah 3.6 - Fully Connected Layer 1 (Input)**"
   ]
  },
  {
   "cell_type": "code",
   "execution_count": null,
   "metadata": {},
   "outputs": [],
   "source": [
    "## menambahkan lapisan Dense (lapisan neuron yang terhubung sepenuhnya) ke dalam model jaringan saraf menggunakan TensorFlow (tf) dengan memiliki 128 unit neuron dan menggunakan fungsi aktivasi ReLU (Rectified Linear Activation) untuk memperkenalkan non-linearitas ke dalam jaringan saraf.ReLU memastikan bahwa nilai-nilai negatif diubah menjadi nol, sementara nilai positif dipertahankan dalam aktivasi neuron.\n",
    "cnn.add(tf.keras.layers.Dense(units=128, activation='relu'))"
   ]
  },
  {
   "cell_type": "markdown",
   "metadata": {},
   "source": [
    "**Langkah 3.7 - Fully Connected Layer 2 (Output)**"
   ]
  },
  {
   "cell_type": "code",
   "execution_count": null,
   "metadata": {},
   "outputs": [],
   "source": [
    "## Menggunakan TensorFlow (tf) dari Keras API untuk menambahkan sebuah layer Dense (layer yang seluruh neuronnya terhubung) dengan satu unit neuron dan fungsi aktivasi sigmoid ke dalam model neural network (jaringan saraf).\n",
    "cnn.add(tf.keras.layers.Dense(units=1, activation='sigmoid'))"
   ]
  },
  {
   "cell_type": "markdown",
   "metadata": {},
   "source": [
    "**Langkah 3.8 - Compile Model CNN**"
   ]
  },
  {
   "cell_type": "code",
   "execution_count": null,
   "metadata": {},
   "outputs": [],
   "source": [
    "## Mengonfigurasi proses pelatihan model Neural Network dengan algoritma optimisasi yang digunakan. Dilanjut dengan fungsi kerugian (loss function) untuk melatih model untuk klasifikasi biner, lalu metriks evaluasi yang berfungsi mengukur kinerja model selama pelatihan, di sini menggunakan metrik akurasi (accuracy) untuk melihat seberapa baik model mengklasifikasikan data.\n",
    "cnn.compile(optimizer = 'adam', loss = 'binary_crossentropy', metrics = ['accuracy'])"
   ]
  },
  {
   "cell_type": "markdown",
   "metadata": {},
   "source": [
    "Penggunaan loss function binary crossentropy dikarenakan kita hanya melakukan klasifikasi pada dua kelas, yaitu kucing dan anjing.\n",
    "\n",
    "#### **Langkah 4 - Fit CNN**"
   ]
  },
  {
   "cell_type": "code",
   "execution_count": null,
   "metadata": {},
   "outputs": [],
   "source": [
    "## Melatih model dengan menggunakan data latihan, sambil memantau kinerjanya pada data validasi, selama 25 iterasi untuk meningkatkan kemampuan prediksi model terhadap data yang belum pernah dilihat sebelumnya (data validasi)\n",
    "cnn.fit(x = training_set, validation_data = test_set, epochs = 25)"
   ]
  },
  {
   "cell_type": "markdown",
   "metadata": {},
   "source": [
    "#### **Langkah 5 - Prediksi dengan 1 Citra**\n",
    "\n",
    "Pada langkah ini, kita akan mencoba melakukan prediksi pada 1 citra anjing dan kucing."
   ]
  },
  {
   "cell_type": "code",
   "execution_count": null,
   "metadata": {},
   "outputs": [],
   "source": [
    "import numpy as np ## Mengimpor pustaka NumPy dengan alias np, memungkinkan penggunaan fungsi dan objek NumPy dengan menyebut np sebelumnya.\n",
    "from keras.preprocessing import image ## Mengimpor modul image dari pustaka Keras yang berkaitan dengan pra-pemrosesan gambar. \n",
    "\n",
    "## Proses penggunaan jaringan saraf tiruan (neural network) konvolusional (CNN) untuk memprediksi apakah gambar yang diberikan merupakan gambar kucing atau anjing.\n",
    "test_image = image.load_img('dataset/single_prediction/cat_or_dog_1.jpg', target_size = (64, 64))\n",
    "test_image = image.img_to_array(test_image)\n",
    "test_image = np.expand_dims(test_image, axis = 0)\n",
    "result = cnn.predict(test_image)\n",
    "training_set.class_indices\n",
    "if result[0][0] == 1:\n",
    "  prediction = 'dog'\n",
    "else:\n",
    "  prediction = 'cat'"
   ]
  }
 ],
 "metadata": {
  "kernelspec": {
   "display_name": "Python 3",
   "language": "python",
   "name": "python3"
  },
  "language_info": {
   "name": "python",
   "version": "3.11.6"
  }
 },
 "nbformat": 4,
 "nbformat_minor": 2
}
