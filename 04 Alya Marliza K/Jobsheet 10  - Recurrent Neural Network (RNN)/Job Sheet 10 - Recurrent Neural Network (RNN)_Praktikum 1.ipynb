{
  "cells": [
    {
      "cell_type": "markdown",
      "metadata": {
        "id": "5gmOPGcwNo_I"
      },
      "source": [
        "# **Praktikum 1**"
      ]
    },
    {
      "cell_type": "markdown",
      "metadata": {
        "id": "Xp3ovZakNo_K"
      },
      "source": [
        "### RNN untuk Analisis Sentimen"
      ]
    },
    {
      "cell_type": "markdown",
      "metadata": {
        "id": "ElY5JtxDNo_L"
      },
      "source": [
        "#### **Setup**\n",
        "\n",
        "Impor matplotlib dan buat fungsi pembantu untuk memplot grafik:"
      ]
    },
    {
      "cell_type": "code",
      "execution_count": null,
      "metadata": {
        "id": "arDDn8IrNo_L"
      },
      "outputs": [],
      "source": [
        "# Mengimpor pustaka NumPy ke dalam program yang dimana library ini berfungsi untuk komputasi numerik dalam pengolahan data dan array.\n",
        "import numpy as np\n",
        "\n",
        "# Mengimpor pustaka TensorFlow Datasets ke dalam program. TensorFlow Datasets adalah pustaka Python untuk mengunduh, memproses, dan mengurutkan kumpulan data untuk digunakan dalam TensorFlow.\n",
        "import tensorflow_datasets as tfds\n",
        "\n",
        "# Mengimpor pustaka TensorFlow ke dalam program. TensorFlow adalah pustaka Python untuk pembelajaran mesin dan kecerdasan buatan.\n",
        "import tensorflow as tf\n",
        "\n",
        "# Menonaktifkan bilah kemajuan untuk mengunduh kumpulan data TensorFlow Datasets.\n",
        "tfds.disable_progress_bar()"
      ]
    },
    {
      "cell_type": "code",
      "execution_count": null,
      "metadata": {
        "id": "0q1H3SZnNo_M"
      },
      "outputs": [],
      "source": [
        "import matplotlib.pyplot as plt # Mengimpor pustaka Matplotlib ke dalam program. Matplotlib adalah pustaka Python yang digunakan untuk membuat visualisasi data.\n",
        "\n",
        "# Digunakan untuk memvisualisasikan riwayat pelatihan model pembelajaran mesin, kemudian membuat dua grafik garis, satu untuk nilai metrik selama pelatihan dan satu untuk nilai metrik validasi. Kedua grafik memiliki label sumbu X yang sama, yaitu \"Epochs\", dan label sumbu Y yang sama dengan nama metrik yang dipilih.\n",
        "def plot_graphs(history, metric):\n",
        "  plt.plot(history.history[metric])\n",
        "  plt.plot(history.history['val_'+metric], '')\n",
        "  plt.xlabel(\"Epochs\")\n",
        "  plt.ylabel(metric)\n",
        "  plt.legend([metric, 'val_'+metric])"
      ]
    },
    {
      "cell_type": "markdown",
      "metadata": {
        "id": "3-17an3vNo_M"
      },
      "source": [
        "#### **Setup input pipeline**\n",
        "\n",
        "Dataset ulasan film IMDB adalah kumpulan data klasifikasi biner—semua ulasan memiliki sentimen positif atau negatif.\n",
        "\n",
        "Download dataset menggunakan [TFDS](https://www.tensorflow.org/datasets). Lihat [loading text tutorial](https://www.tensorflow.org/tutorials/load_data/text) jika ingin me load data secara manual"
      ]
    },
    {
      "cell_type": "code",
      "execution_count": null,
      "metadata": {
        "colab": {
          "base_uri": "https://localhost:8080/"
        },
        "id": "FgDKhyXENo_M",
        "outputId": "7bf58faf-ba42-4811-f6e4-eaafc229016d"
      },
      "outputs": [
        {
          "name": "stdout",
          "output_type": "stream",
          "text": [
            "Downloading and preparing dataset 80.23 MiB (download: 80.23 MiB, generated: Unknown size, total: 80.23 MiB) to /root/tensorflow_datasets/imdb_reviews/plain_text/1.0.0...\n",
            "Dataset imdb_reviews downloaded and prepared to /root/tensorflow_datasets/imdb_reviews/plain_text/1.0.0. Subsequent calls will reuse this data.\n"
          ]
        },
        {
          "data": {
            "text/plain": [
              "(TensorSpec(shape=(), dtype=tf.string, name=None),\n",
              " TensorSpec(shape=(), dtype=tf.int64, name=None))"
            ]
          },
          "execution_count": 4,
          "metadata": {},
          "output_type": "execute_result"
        }
      ],
      "source": [
        "# Mengambil, membagi, dan menampilkan dataset IMDB dari TensorFlow Datasets beserta informasi tentang struktur elemen dataset pelatihan untuk memahami jenis dan bentuk data.\n",
        "dataset, info = tfds.load('imdb_reviews', with_info=True,\n",
        "                          as_supervised=True)\n",
        "train_dataset, test_dataset = dataset['train'], dataset['test']\n",
        "\n",
        "train_dataset.element_spec"
      ]
    },
    {
      "cell_type": "markdown",
      "metadata": {
        "id": "Wm82u5KDNo_N"
      },
      "source": [
        "Awalnya ini mengembalikan dataset (teks, pasangan label):"
      ]
    },
    {
      "cell_type": "code",
      "execution_count": null,
      "metadata": {
        "colab": {
          "base_uri": "https://localhost:8080/"
        },
        "id": "ghlKVDNuNo_N",
        "outputId": "9f59792c-fa4e-47f2-f194-30f3900a3620"
      },
      "outputs": [
        {
          "name": "stdout",
          "output_type": "stream",
          "text": [
            "text:  b\"This was an absolutely terrible movie. Don't be lured in by Christopher Walken or Michael Ironside. Both are great actors, but this must simply be their worst role in history. Even their great acting could not redeem this movie's ridiculous storyline. This movie is an early nineties US propaganda piece. The most pathetic scenes were those when the Columbian rebels were making their cases for revolutions. Maria Conchita Alonso appeared phony, and her pseudo-love affair with Walken was nothing but a pathetic emotional plug in a movie that was devoid of any real meaning. I am disappointed that there are movies like this, ruining actor's like Christopher Walken's good name. I could barely sit through it.\"\n",
            "label:  0\n"
          ]
        }
      ],
      "source": [
        "# Mengambil, mencetak teks dan mencetak label satu contoh dari dataset.\n",
        "for example, label in train_dataset.take(1):\n",
        "  print('text: ', example.numpy())\n",
        "  print('label: ', label.numpy())"
      ]
    },
    {
      "cell_type": "markdown",
      "metadata": {
        "id": "WEy4inuONo_N"
      },
      "source": [
        "Berikutnya acak data untuk pelatihan dan membuat kumpulan pasangan (teks, label) ini:"
      ]
    },
    {
      "cell_type": "code",
      "execution_count": null,
      "metadata": {
        "colab": {
          "base_uri": "https://localhost:8080/"
        },
        "id": "fSBnsP1aNo_N",
        "outputId": "c11dad89-ea1a-4732-fc35-2c6e28f87dfa"
      },
      "outputs": [
        {
          "name": "stdout",
          "output_type": "stream",
          "text": [
            "texts:  [b'This movie bewilders me. It may be that I\\'m just a stupid American, but I really just don\\'t get 400 Blows. Everything I\\'ve read about this movie has been a total rave, but I just couldn\\'t stay interested. I\\'m sure that it was as revolutionary in film-making as all the critics say, but when it boils right down to it, it\\'s just really really boring. Maybe it\\'s the language barrier, may I\\'m just not \"sensitive\" or \"artsy\" enough, but whatever the case is, I hated this movie. The story itself isn\\'t bad; it\\'s about a young French boy who is treated unfairly by his parents and his teachers, and eventually he ends up in a juvenile facility. That in itself ought to be interesting, and it was, at first. There was nothing wrong with the dialogue, but then again it\\'s hard to say because half of the conversations weren\\'t subtitled and for no apparent reason, so I didn\\'t always know what was going on. But for the dialogue we could understand, it made enough sense. The actors were believable enough, but it\\'s hard to say what a real person would do in these situations. So you feel for the main character, but only in the sense that when he gets into trouble you think, well that sucks. The plot isn\\'t even your typical plot. Each time he gets in trouble, he gets into more trouble than the last time, but the reasons never vary too much. And through the entire film you realize that there\\'s nothing the main character can really do about it. So it\\'s more like just waiting to see how it ends. The ending, by the way, was completely over my head. It\\'s way too artsy for me, and I just didn\\'t get it. Leading up to the end was easy enough to follow. The structure was certainly there, and it made sense as well, but everything was really drawn out. For the amount of dialogue and significant moments, the movie could have been an hour shorter. It just didn\\'t end. Part of it was the unnecessarily long shots, none of which were especially memorable; for example, the ending was a clip of the main character running down a country road that lasted a good thirty seconds. Now, I\\'m sure that had some deeper meaning in it somewhere, but for the average viewer, I\\'d rather have gotten up to get some more food during that time. Or at least done something a little more useful than sit and watch this boy running, like doing my laundry, or taking a nap. <br /><br />Final Verdict <br /><br />The feeling throughout the whole movie was that this probably would be very moving and just amazing and that it would teach me some great life lesson, if I could only get what the director was trying to say by his\\xc2\\x85 unique decisions. As it was, I just felt cheated out of a good two hours of my life.'\n",
            " b'\"Sandra, the Making of a Woman\" is a standout among exploitation films, and is so for two reasons: (1) an excellent, yet effortless, performance by Monica Gayle, and (2) the fact that Gary Graver was at the helm of the project. These two talents, both of whom are quite underrated, make \"Sandra\" a film that should be seen.<br /><br />Another key element of the film\\'s success is its realism -- there is nothing fake or \"Hollywood\" about this set-in-California film. It is truly a slice of life. The modest house in which Sandra lives at the beginning of the film, the simple dresses worn by the character, the scene where Sandra wakes up in the morning to find Uschi Digart bouncing at her front door, and Sandra sits on the couch without make-up, while Digart tries to sell her some cosmetics, looking truly as if she just woke up (but nevertheless beautiful), the harmless weirdo Sandra picks up who likes to make love with her while he wears a bra, the one-room apartment into which Sandra moves --all of these elements of the film seem totally real, and as such, the viewer is drawn into Sandra\\'s little world from the beginning and immediately becomes interested in her and wants her to succeed. Sandra also makes her case for free love with eloquence and dignity and she comes off with a lot of class.<br /><br />This film could have easily failed in less competent hands, and could have gone off in any of the usual sexploitation directions, but the Garver/Gale team see to it that \"Sandra\" is not only the making of a woman but the making of an excellent film.'\n",
            " b'I\\'ve been intrigued by this film for a while, in part because of the extremely high score here on IMDb -- a 9.0 average with over 300 votes gives it the highest rating of any accessible silent film! How had I not heard of this film before this website? Well, you can\\'t always trust the ratings. This is actually a very good film, preserved quite well if the fine VHS transfer I rented is any indication -- excellent acting by the principals, especially William Haines as Brown, and good location work at Cambridge with some fine action footage in the climactic Harvard/Yale football game -- but the story must have seemed a hoary chestnut even in 1926. Obnoxious, self-centered and charismatic guy goes to school and gets put in his place, becoming in the process a caring, self-sacrificing friend; I doubt people in 1926 found much that was really exciting in the last few reels, the predictability factor is high. Still, it starts out very well, and is certainly deserving of being remembered, if not praised to the heavens. Maybe the previous 350 voters are mostly Harvard men...<br /><br />EDIT Now 600+ voters and the score has actually climbed to 9.2! Seriously, folks, there is ballot-stuffing going on here - I defy anybody to explain why this is a better film than \"Metropolis\" or \"The General\"!']\n",
            "\n",
            "labels:  [0 1 1]\n"
          ]
        }
      ],
      "source": [
        "# Ukuran buffer yang akan digunakan untuk mengacak dataset.\n",
        "BUFFER_SIZE = 10000\n",
        "\n",
        "# Ukuran batch yang akan digunakan untuk melatih model.\n",
        "BATCH_SIZE = 64\n",
        "\n",
        "# Mengacak dataset untuk mengurangi bias dalam urutan data, lalu membagi dataset menjadi batch dengan ukuran 64 serta mengoptimalkan kinerja input pipeline dengan otomatis memilih jumlah elemen yang akan diprefetch\n",
        "train_dataset = train_dataset.shuffle(BUFFER_SIZE).batch(BATCH_SIZE).prefetch(tf.data.AUTOTUNE)\n",
        "\n",
        "# Membagi dataset tes menjadi batch dengan ukuran 64 dan mengoptimalkan kinerja input pipeline untuk dataset tes.\n",
        "test_dataset = test_dataset.batch(BATCH_SIZE).prefetch(tf.data.AUTOTUNE)\n",
        "\n",
        "# Mencetak contoh teks dan label dari dataset pelatihan\n",
        "for example, label in train_dataset.take(1):\n",
        "  print('texts: ', example.numpy()[:3])\n",
        "  print()\n",
        "  print('labels: ', label.numpy()[:3])"
      ]
    },
    {
      "cell_type": "markdown",
      "metadata": {
        "id": "v8a_WzmNNo_N"
      },
      "source": [
        "#### **Buat Teks Encoder**\n",
        "\n",
        "Teks mentah yang dimuat oleh tfds perlu diproses sebelum dapat digunakan dalam model. Cara termudah memproses teks untuk pelatihan adalah menggunakan lapisan TextVectorization. Lapisan ini memiliki banyak kemampuan, namun pada tutorial ini menggunakan perilaku default. Buat lapisan tersebut, dan teruskan teks kumpulan data ke metode .adapt lapisan:"
      ]
    },
    {
      "cell_type": "code",
      "execution_count": null,
      "metadata": {
        "id": "V2fKXU2HNo_N"
      },
      "outputs": [],
      "source": [
        "# Menentukan ukuran kosakata yang akan digunakan untuk vektorisasi teks. Dalam hal ini, kosakata akan berisi 1000 kata yang paling umum dalam kumpulan data.\n",
        "VOCAB_SIZE = 1000\n",
        "\n",
        "# Membuat objek TextVectorization yang akan digunakan untuk mengubah teks menjadi representasi numerik (vektor) dan menentukan ukuran maksimum kosakata yang akan digunakan.\n",
        "encoder = tf.keras.layers.TextVectorization(\n",
        "    max_tokens=VOCAB_SIZE)\n",
        "\n",
        "# Mengadaptasi objek TextVectorization untuk menyesuaikan dengan kumpulan data pelatihan.\n",
        "encoder.adapt(train_dataset.map(lambda text, label: text))"
      ]
    },
    {
      "cell_type": "markdown",
      "metadata": {
        "id": "eNbPPgQ4No_N"
      },
      "source": [
        "Metode .adapt mengatur kosakata lapisan. 20 token pertama dapat dilihat dengan kode berikut. Setelah padding dan token yang tidak diketahui, mereka diurutkan berdasarkan frekuensi:"
      ]
    },
    {
      "cell_type": "code",
      "execution_count": null,
      "metadata": {
        "colab": {
          "base_uri": "https://localhost:8080/"
        },
        "id": "YVcjpwveNo_N",
        "outputId": "b16c7a85-3dd0-4c60-e283-a340b5a1be5b"
      },
      "outputs": [
        {
          "data": {
            "text/plain": [
              "array(['', '[UNK]', 'the', 'and', 'a', 'of', 'to', 'is', 'in', 'it', 'i',\n",
              "       'this', 'that', 'br', 'was', 'as', 'for', 'with', 'movie', 'but'],\n",
              "      dtype='<U14')"
            ]
          },
          "execution_count": 8,
          "metadata": {},
          "output_type": "execute_result"
        }
      ],
      "source": [
        "# Mengubah kosakata dari encoder menjadi array NumPy.\n",
        "vocab = np.array(encoder.get_vocabulary())\n",
        "\n",
        "# Mengambil 20 kata pertama dari array kosakata.\n",
        "vocab[:20]"
      ]
    },
    {
      "cell_type": "markdown",
      "metadata": {
        "id": "KFLC0Z1LNo_O"
      },
      "source": [
        "Setelah kosakata diatur, lapisan dapat mengkodekan teks ke dalam indeks. Tensor indeks diberi bantalan 0 ke urutan terpanjang dalam batch (kecuali jika Anda menetapkan output_sequence_length tetap):"
      ]
    },
    {
      "cell_type": "code",
      "execution_count": null,
      "metadata": {
        "colab": {
          "base_uri": "https://localhost:8080/"
        },
        "id": "6ooHZj9DNo_O",
        "outputId": "3e2a24c7-58e5-4c7b-ce46-9ab4faf9d43b"
      },
      "outputs": [
        {
          "data": {
            "text/plain": [
              "array([[ 11,  18,   1, ...,   0,   0,   0],\n",
              "       [  1,   2, 245, ...,   0,   0,   0],\n",
              "       [195,  75,   1, ...,   0,   0,   0]])"
            ]
          },
          "execution_count": 9,
          "metadata": {},
          "output_type": "execute_result"
        }
      ],
      "source": [
        "# Mengambil contoh data (example), melakukan encoding terhadapnya menggunakan fungsi encoder, kemudian mengambil 3 elemen pertama dari hasil encoding dan menyimpannya dalam variabel encoded_example. Baris terakhir menampilkan isi dari variabel encoded_example.\n",
        "encoded_example = encoder(example)[:3].numpy()\n",
        "encoded_example"
      ]
    },
    {
      "cell_type": "markdown",
      "metadata": {
        "id": "Ayd91uRyNo_O"
      },
      "source": [
        "Dengan pengaturan default, prosesnya tidak dapat dibalik sepenuhnya. Ada dua alasan utama untuk itu:\n",
        "- Nilai default untuk argumen standarisasi preprocessing.TextVectorization adalah \"lower_and_strip_punctuation\".\n",
        "- Ukuran kosa kata yang terbatas dan kurangnya fallback berbasis karakter menghasilkan beberapa token yang tidak diketahui."
      ]
    },
    {
      "cell_type": "code",
      "execution_count": null,
      "metadata": {
        "colab": {
          "base_uri": "https://localhost:8080/"
        },
        "id": "ZV6HmDTZNo_O",
        "outputId": "1b14d1a3-fcd9-471b-d6c8-83026251090d"
      },
      "outputs": [
        {
          "name": "stdout",
          "output_type": "stream",
          "text": [
            "Original:  b'This movie bewilders me. It may be that I\\'m just a stupid American, but I really just don\\'t get 400 Blows. Everything I\\'ve read about this movie has been a total rave, but I just couldn\\'t stay interested. I\\'m sure that it was as revolutionary in film-making as all the critics say, but when it boils right down to it, it\\'s just really really boring. Maybe it\\'s the language barrier, may I\\'m just not \"sensitive\" or \"artsy\" enough, but whatever the case is, I hated this movie. The story itself isn\\'t bad; it\\'s about a young French boy who is treated unfairly by his parents and his teachers, and eventually he ends up in a juvenile facility. That in itself ought to be interesting, and it was, at first. There was nothing wrong with the dialogue, but then again it\\'s hard to say because half of the conversations weren\\'t subtitled and for no apparent reason, so I didn\\'t always know what was going on. But for the dialogue we could understand, it made enough sense. The actors were believable enough, but it\\'s hard to say what a real person would do in these situations. So you feel for the main character, but only in the sense that when he gets into trouble you think, well that sucks. The plot isn\\'t even your typical plot. Each time he gets in trouble, he gets into more trouble than the last time, but the reasons never vary too much. And through the entire film you realize that there\\'s nothing the main character can really do about it. So it\\'s more like just waiting to see how it ends. The ending, by the way, was completely over my head. It\\'s way too artsy for me, and I just didn\\'t get it. Leading up to the end was easy enough to follow. The structure was certainly there, and it made sense as well, but everything was really drawn out. For the amount of dialogue and significant moments, the movie could have been an hour shorter. It just didn\\'t end. Part of it was the unnecessarily long shots, none of which were especially memorable; for example, the ending was a clip of the main character running down a country road that lasted a good thirty seconds. Now, I\\'m sure that had some deeper meaning in it somewhere, but for the average viewer, I\\'d rather have gotten up to get some more food during that time. Or at least done something a little more useful than sit and watch this boy running, like doing my laundry, or taking a nap. <br /><br />Final Verdict <br /><br />The feeling throughout the whole movie was that this probably would be very moving and just amazing and that it would teach me some great life lesson, if I could only get what the director was trying to say by his\\xc2\\x85 unique decisions. As it was, I just felt cheated out of a good two hours of my life.'\n",
            "Round-trip:  this movie [UNK] me it may be that im just a stupid american but i really just dont get [UNK] [UNK] everything ive read about this movie has been a total [UNK] but i just couldnt stay interested im sure that it was as [UNK] in [UNK] as all the [UNK] say but when it [UNK] right down to it its just really really boring maybe its the [UNK] [UNK] may im just not [UNK] or [UNK] enough but whatever the case is i [UNK] this movie the story itself isnt bad its about a young french boy who is [UNK] [UNK] by his parents and his [UNK] and eventually he ends up in a [UNK] [UNK] that in itself [UNK] to be interesting and it was at first there was nothing wrong with the dialogue but then again its hard to say because half of the [UNK] [UNK] [UNK] and for no [UNK] reason so i didnt always know what was going on but for the dialogue we could understand it made enough sense the actors were believable enough but its hard to say what a real person would do in these [UNK] so you feel for the main character but only in the sense that when he gets into [UNK] you think well that [UNK] the plot isnt even your typical plot each time he gets in [UNK] he gets into more [UNK] than the last time but the [UNK] never [UNK] too much and through the entire film you realize that theres nothing the main character can really do about it so its more like just [UNK] to see how it ends the ending by the way was completely over my head its way too [UNK] for me and i just didnt get it leading up to the end was easy enough to follow the [UNK] was certainly there and it made sense as well but everything was really [UNK] out for the [UNK] of dialogue and [UNK] moments the movie could have been an hour [UNK] it just didnt end part of it was the [UNK] long shots none of which were especially memorable for example the ending was a [UNK] of the main character running down a country [UNK] that [UNK] a good [UNK] [UNK] now im sure that had some [UNK] [UNK] in it [UNK] but for the average viewer id rather have [UNK] up to get some more [UNK] during that time or at least done something a little more [UNK] than sit and watch this boy running like doing my [UNK] or taking a [UNK] br br final [UNK] br br the feeling throughout the whole movie was that this probably would be very moving and just amazing and that it would [UNK] me some great life [UNK] if i could only get what the director was trying to say by [UNK] unique [UNK] as it was i just felt [UNK] out of a good two hours of my life                                                                                                                                                                                                                                                                                                                                                                                                                                                                                                    \n",
            "\n",
            "Original:  b'\"Sandra, the Making of a Woman\" is a standout among exploitation films, and is so for two reasons: (1) an excellent, yet effortless, performance by Monica Gayle, and (2) the fact that Gary Graver was at the helm of the project. These two talents, both of whom are quite underrated, make \"Sandra\" a film that should be seen.<br /><br />Another key element of the film\\'s success is its realism -- there is nothing fake or \"Hollywood\" about this set-in-California film. It is truly a slice of life. The modest house in which Sandra lives at the beginning of the film, the simple dresses worn by the character, the scene where Sandra wakes up in the morning to find Uschi Digart bouncing at her front door, and Sandra sits on the couch without make-up, while Digart tries to sell her some cosmetics, looking truly as if she just woke up (but nevertheless beautiful), the harmless weirdo Sandra picks up who likes to make love with her while he wears a bra, the one-room apartment into which Sandra moves --all of these elements of the film seem totally real, and as such, the viewer is drawn into Sandra\\'s little world from the beginning and immediately becomes interested in her and wants her to succeed. Sandra also makes her case for free love with eloquence and dignity and she comes off with a lot of class.<br /><br />This film could have easily failed in less competent hands, and could have gone off in any of the usual sexploitation directions, but the Garver/Gale team see to it that \"Sandra\" is not only the making of a woman but the making of an excellent film.'\n",
            "Round-trip:  [UNK] the making of a woman is a [UNK] among [UNK] films and is so for two [UNK] 1 an excellent yet [UNK] performance by [UNK] [UNK] and 2 the fact that [UNK] [UNK] was at the [UNK] of the [UNK] these two [UNK] both of whom are quite [UNK] make [UNK] a film that should be [UNK] br another [UNK] [UNK] of the films [UNK] is its [UNK] there is nothing [UNK] or hollywood about this [UNK] film it is truly a [UNK] of life the [UNK] house in which [UNK] lives at the beginning of the film the simple [UNK] [UNK] by the character the scene where [UNK] [UNK] up in the [UNK] to find [UNK] [UNK] [UNK] at her [UNK] [UNK] and [UNK] [UNK] on the [UNK] without [UNK] while [UNK] tries to [UNK] her some [UNK] looking truly as if she just [UNK] up but [UNK] beautiful the [UNK] [UNK] [UNK] [UNK] up who [UNK] to make love with her while he [UNK] a [UNK] the [UNK] [UNK] into which [UNK] [UNK] all of these elements of the film seem totally real and as such the viewer is [UNK] into [UNK] little world from the beginning and [UNK] becomes interested in her and wants her to [UNK] [UNK] also makes her case for free love with [UNK] and [UNK] and she comes off with a lot of [UNK] br this film could have easily [UNK] in less [UNK] hands and could have gone off in any of the usual [UNK] [UNK] but the [UNK] team see to it that [UNK] is not only the making of a woman but the making of an excellent film                                                                                                                                                                                                                                                                                                                                                                                                                                                                                                                                                                                                                                                                                                                               \n",
            "\n",
            "Original:  b'I\\'ve been intrigued by this film for a while, in part because of the extremely high score here on IMDb -- a 9.0 average with over 300 votes gives it the highest rating of any accessible silent film! How had I not heard of this film before this website? Well, you can\\'t always trust the ratings. This is actually a very good film, preserved quite well if the fine VHS transfer I rented is any indication -- excellent acting by the principals, especially William Haines as Brown, and good location work at Cambridge with some fine action footage in the climactic Harvard/Yale football game -- but the story must have seemed a hoary chestnut even in 1926. Obnoxious, self-centered and charismatic guy goes to school and gets put in his place, becoming in the process a caring, self-sacrificing friend; I doubt people in 1926 found much that was really exciting in the last few reels, the predictability factor is high. Still, it starts out very well, and is certainly deserving of being remembered, if not praised to the heavens. Maybe the previous 350 voters are mostly Harvard men...<br /><br />EDIT Now 600+ voters and the score has actually climbed to 9.2! Seriously, folks, there is ballot-stuffing going on here - I defy anybody to explain why this is a better film than \"Metropolis\" or \"The General\"!'\n",
            "Round-trip:  ive been [UNK] by this film for a while in part because of the extremely high score here on imdb a [UNK] average with over [UNK] [UNK] gives it the [UNK] rating of any [UNK] [UNK] film how had i not heard of this film before this [UNK] well you cant always [UNK] the [UNK] this is actually a very good film [UNK] quite well if the fine [UNK] [UNK] i [UNK] is any [UNK] excellent acting by the [UNK] especially [UNK] [UNK] as [UNK] and good [UNK] work at [UNK] with some fine action footage in the [UNK] [UNK] [UNK] game but the story must have seemed a [UNK] [UNK] even in [UNK] [UNK] [UNK] and [UNK] guy goes to school and gets put in his place [UNK] in the [UNK] a [UNK] [UNK] friend i doubt people in [UNK] found much that was really [UNK] in the last few [UNK] the [UNK] [UNK] is high still it starts out very well and is certainly [UNK] of being [UNK] if not [UNK] to the [UNK] maybe the previous [UNK] [UNK] are mostly [UNK] [UNK] br [UNK] now [UNK] [UNK] and the score has actually [UNK] to [UNK] seriously [UNK] there is [UNK] going on here i [UNK] [UNK] to [UNK] why this is a better film than [UNK] or the general                                                                                                                                                                                                                                                                                                                                                                                                                                                                                                                                                                                                                                                                                                                                                                                        \n",
            "\n"
          ]
        }
      ],
      "source": [
        "# Mengulangi proses pencetakan tiga kali untuk menampilkan teks asli dan versi round-trip-nya.\n",
        "for n in range(3):\n",
        "  print(\"Original: \", example[n].numpy())\n",
        "  print(\"Round-trip: \", \" \".join(vocab[encoded_example[n]]))\n",
        "  print()"
      ]
    },
    {
      "cell_type": "markdown",
      "metadata": {
        "id": "TBIUpJjcNo_O"
      },
      "source": [
        "#### **Buat Model**\n",
        "\n",
        "![alt text](bidirectional.png)\n",
        "\n",
        "###### <center>A drawing of the information flow in the model</center>\n",
        "\n",
        "diagram model dapat dilihat pada gambar diatas\n",
        "\n",
        "1. Model ini dapat dibuat sebagai tf.keras.Sequential.\n",
        "2. Lapisan pertama adalah encoder, yang mengubah teks menjadi urutan indeks token.\n",
        "3. Setelah encoder adalah lapisan penyematan (embedding layer). Lapisan penyematan menyimpan satu vektor per kata. Saat dipanggil, ini mengubah rangkaian indeks kata menjadi rangkaian vektor. Vektor-vektor ini dapat dilatih. Setelah pelatihan (dengan data yang cukup), kata-kata dengan arti yang mirip sering kali memiliki vektor yang serupa. Pencarian indeks ini jauh lebih efisien daripada operasi setara dengan meneruskan vektor yang disandikan one-hot melalui lapisan tf.keras.layers.Dense.\n",
        "4. Jaringan saraf berulang (RNN) memproses masukan urutan dengan melakukan iterasi melalui elemen. RNN meneruskan keluaran dari satu langkah waktu ke masukannya pada langkah waktu berikutnya.\n",
        "Pembungkus tf.keras.layers.Bidirection juga dapat digunakan dengan lapisan RNN. Ini menyebarkan masukan maju dan mundur melalui lapisan RNN dan kemudian menggabungkan keluaran akhir.\n",
        "- Keuntungan utama RNN dua arah adalah sinyal dari awal masukan tidak perlu diproses sepanjang waktu untuk memengaruhi keluaran.\n",
        "- Kerugian utama dari RNN dua arah adalah Anda tidak dapat melakukan streaming prediksi secara efisien saat kata-kata ditambahkan di akhir.\n",
        "5. Setelah RNN mengonversi urutan menjadi satu vektor, kedua lapisan tersebut.Dense melakukan beberapa pemrosesan akhir, dan mengonversi representasi vektor ini menjadi logit tunggal sebagai keluaran klasifikasi.\n",
        "\n",
        "Kode nya adalah sebagai berikut :"
      ]
    },
    {
      "cell_type": "code",
      "execution_count": null,
      "metadata": {
        "id": "pyfYeRHxNo_O"
      },
      "outputs": [],
      "source": [
        "# Membangun model jaringan saraf menggunakan TensorFlow dengan lapisan-lapisan encoder, embedding, bidirectional LSTM layer, dense layer 64 unit, dan dense layer 1 unit.\n",
        "model = tf.keras.Sequential([\n",
        "    encoder,\n",
        "    tf.keras.layers.Embedding(\n",
        "        input_dim=len(encoder.get_vocabulary()),\n",
        "        output_dim=64,\n",
        "        # Use masking to handle the variable sequence lengths\n",
        "        mask_zero=True),\n",
        "    tf.keras.layers.Bidirectional(tf.keras.layers.LSTM(64)),\n",
        "    tf.keras.layers.Dense(64, activation='relu'),\n",
        "    tf.keras.layers.Dense(1)\n",
        "])"
      ]
    },
    {
      "cell_type": "markdown",
      "metadata": {
        "id": "aeLC1MfhNo_O"
      },
      "source": [
        "Harap dicatat bahwa model sekuensial Keras digunakan di sini karena semua lapisan dalam model hanya memiliki masukan tunggal dan menghasilkan keluaran tunggal. Jika Anda ingin menggunakan lapisan RNN stateful, Anda mungkin ingin membangun model Anda dengan API fungsional Keras atau subkelas model sehingga Anda dapat mengambil dan menggunakan kembali status lapisan RNN. Untuk detailnya bisa dilihat pada Keras RNN guide\n",
        "\n",
        "Lapisan penyematan menggunakan masking (uses masking ) untuk menangani panjang urutan yang bervariasi. Semua lapisan setelah penyematan dukungan penyematan"
      ]
    },
    {
      "cell_type": "code",
      "execution_count": null,
      "metadata": {
        "colab": {
          "base_uri": "https://localhost:8080/"
        },
        "id": "vsM2vf5-No_O",
        "outputId": "e4dccad0-100b-4cf1-9110-33ab71780436"
      },
      "outputs": [
        {
          "name": "stdout",
          "output_type": "stream",
          "text": [
            "[False, True, True, True, True]\n"
          ]
        }
      ],
      "source": [
        "# Mencetak daftar nilai Boolean (True atau False) yang menunjukkan apakah setiap layer dalam model mendukung masking.\n",
        "print([layer.supports_masking for layer in model.layers])"
      ]
    },
    {
      "cell_type": "markdown",
      "metadata": {
        "id": "QSyc_vyLNo_O"
      },
      "source": [
        "Untuk memastikan bahwa ini berfungsi seperti yang diharapkan, evaluasi sebuah kalimat dua kali. Pertama, satu kalimat sehingga tidak ada bantalan (padding) untuk disamarkan:"
      ]
    },
    {
      "cell_type": "code",
      "execution_count": null,
      "metadata": {
        "colab": {
          "base_uri": "https://localhost:8080/"
        },
        "id": "WpwIgsHmNo_O",
        "outputId": "7a7d4fa1-7a97-4320-9ef4-c851cf41d675"
      },
      "outputs": [
        {
          "name": "stdout",
          "output_type": "stream",
          "text": [
            "1/1 [==============================] - 5s 5s/step\n",
            "[-0.00316648]\n"
          ]
        }
      ],
      "source": [
        "# predict on a sample text without padding.\n",
        "\n",
        "# Mendefinisikan variabel sample_text dengan teks yang ingin dianalisis sentimentnya.\n",
        "sample_text = ('The movie was cool. The animation and the graphics '\n",
        "               'were out of this world. I would recommend this movie.')\n",
        "predictions = model.predict(np.array([sample_text]))\n",
        "print(predictions[0])"
      ]
    },
    {
      "cell_type": "markdown",
      "metadata": {
        "id": "AMkuBRGINo_O"
      },
      "source": [
        "Sekarang, evaluasi lagi dalam batch dengan kalimat yang lebih panjang. Hasilnya harus sama:"
      ]
    },
    {
      "cell_type": "code",
      "execution_count": null,
      "metadata": {
        "colab": {
          "base_uri": "https://localhost:8080/"
        },
        "id": "SfE_KOYJNo_P",
        "outputId": "5e59f268-cd0d-4b3d-8292-b0521284e71a"
      },
      "outputs": [
        {
          "name": "stdout",
          "output_type": "stream",
          "text": [
            "1/1 [==============================] - 0s 108ms/step\n",
            "[-0.00316648]\n"
          ]
        }
      ],
      "source": [
        "# predict on a sample text with padding\n",
        "\n",
        "# Kode ini menggunakan model pembelajaran mesin untuk membuat prediksi berdasarkan sample_text. Untuk memastikan model dapat memproses teks dengan panjang yang berbeda, string padding ditambahkan untuk melengkapi sample_text agar mencapai panjang yang sama dengan teks lain yang mungkin telah digunakan untuk melatih model. Akhirnya, prediksi untuk sample_text dicetak ke layar.\n",
        "padding = \"the \" * 2000\n",
        "predictions = model.predict(np.array([sample_text, padding]))\n",
        "print(predictions[0])"
      ]
    },
    {
      "cell_type": "markdown",
      "metadata": {
        "id": "3XRN41fINo_P"
      },
      "source": [
        "compile model Keras untuk mengonfigurasi proses pelatihan:"
      ]
    },
    {
      "cell_type": "code",
      "execution_count": null,
      "metadata": {
        "id": "8tVKOYhRNo_P"
      },
      "outputs": [],
      "source": [
        "# Mempersiapkan model pembelajaran mesin untuk proses pelatihan dengan menetapkan beberapa konfigurasi penting.\n",
        "model.compile(loss=tf.keras.losses.BinaryCrossentropy(from_logits=True), # Menentukan fungsi loss yang akan digunakan untuk mengukur seberapa baik model melakukan prediksi\n",
        "              optimizer=tf.keras.optimizers.Adam(1e-4), # Menentukan algoritma optimasi yang akan digunakan untuk memperbarui bobot model selama pelatihan.\n",
        "              metrics=['accuracy']) # Menentukan metrik yang akan dilacak dan dilaporkan selama pelatihan."
      ]
    },
    {
      "cell_type": "markdown",
      "metadata": {
        "id": "TJMCNx69No_P"
      },
      "source": [
        "##### **Train Model**"
      ]
    },
    {
      "cell_type": "code",
      "execution_count": null,
      "metadata": {
        "colab": {
          "base_uri": "https://localhost:8080/"
        },
        "id": "BPCntRWINo_P",
        "outputId": "5c3cdc63-8ac9-40b3-a30c-ded110257275"
      },
      "outputs": [
        {
          "name": "stdout",
          "output_type": "stream",
          "text": [
            "Epoch 1/10\n",
            "391/391 [==============================] - 53s 107ms/step - loss: 0.6509 - accuracy: 0.5506 - val_loss: 0.5004 - val_accuracy: 0.7708\n",
            "Epoch 2/10\n",
            "391/391 [==============================] - 26s 66ms/step - loss: 0.4181 - accuracy: 0.8080 - val_loss: 0.4035 - val_accuracy: 0.8406\n",
            "Epoch 3/10\n",
            "391/391 [==============================] - 25s 65ms/step - loss: 0.3529 - accuracy: 0.8466 - val_loss: 0.3472 - val_accuracy: 0.8484\n",
            "Epoch 4/10\n",
            "391/391 [==============================] - 24s 61ms/step - loss: 0.3243 - accuracy: 0.8605 - val_loss: 0.3373 - val_accuracy: 0.8458\n",
            "Epoch 5/10\n",
            "391/391 [==============================] - 25s 63ms/step - loss: 0.3134 - accuracy: 0.8658 - val_loss: 0.3347 - val_accuracy: 0.8458\n",
            "Epoch 6/10\n",
            "391/391 [==============================] - 24s 61ms/step - loss: 0.3075 - accuracy: 0.8688 - val_loss: 0.3238 - val_accuracy: 0.8568\n",
            "Epoch 7/10\n",
            "391/391 [==============================] - 29s 75ms/step - loss: 0.3029 - accuracy: 0.8711 - val_loss: 0.3216 - val_accuracy: 0.8604\n",
            "Epoch 8/10\n",
            "391/391 [==============================] - 27s 68ms/step - loss: 0.2996 - accuracy: 0.8720 - val_loss: 0.3337 - val_accuracy: 0.8464\n",
            "Epoch 9/10\n",
            "391/391 [==============================] - 28s 71ms/step - loss: 0.2958 - accuracy: 0.8740 - val_loss: 0.3283 - val_accuracy: 0.8521\n",
            "Epoch 10/10\n",
            "391/391 [==============================] - 24s 62ms/step - loss: 0.2946 - accuracy: 0.8741 - val_loss: 0.3245 - val_accuracy: 0.8661\n"
          ]
        }
      ],
      "source": [
        "# Melatih model pembelajaran mesin menggunakan kumpulan data pelatihan dan mengevaluasinya menggunakan kumpulan data pengujian.\n",
        "history = model.fit(train_dataset, epochs=10,\n",
        "                    validation_data=test_dataset,\n",
        "                    validation_steps=30)"
      ]
    },
    {
      "cell_type": "code",
      "execution_count": null,
      "metadata": {
        "colab": {
          "base_uri": "https://localhost:8080/"
        },
        "id": "Jko9EXHmNo_P",
        "outputId": "ca5f0db2-574e-4c59-b1d1-21da10244ab4"
      },
      "outputs": [
        {
          "name": "stdout",
          "output_type": "stream",
          "text": [
            "391/391 [==============================] - 12s 29ms/step - loss: 0.3204 - accuracy: 0.8653\n",
            "Test Loss: 0.3204367458820343\n",
            "Test Accuracy: 0.8652799725532532\n"
          ]
        }
      ],
      "source": [
        "# Mengevaluasi kinerja model pembelajaran mesin pada kumpulan data uji\n",
        "test_loss, test_acc = model.evaluate(test_dataset)\n",
        "\n",
        "print('Test Loss:', test_loss)\n",
        "print('Test Accuracy:', test_acc)"
      ]
    },
    {
      "cell_type": "code",
      "execution_count": null,
      "metadata": {
        "colab": {
          "base_uri": "https://localhost:8080/",
          "height": 371
        },
        "id": "T1v1SjhfNo_P",
        "outputId": "5f4709e9-04fc-4da9-95ca-dadeb23f5512"
      },
      "outputs": [
        {
          "data": {
            "text/plain": [
              "(0.0, 0.6686655908823014)"
            ]
          },
          "execution_count": 18,
          "metadata": {},
          "output_type": "execute_result"
        },
        {
          "data": {
            "image/png": "[encoded data removed]",
            "text/plain": [
              "<Figure size 1600x800 with 2 Axes>"
            ]
          },
          "metadata": {},
          "output_type": "display_data"
        }
      ],
      "source": [
        "plt.figure(figsize=(16, 8)) # Membuat gambar baru dengan ukuran yang ditentukan (16 inci lebar dan 8 inci tinggi).\n",
        "plt.subplot(1, 2, 1) # Membagi gambar menjadi kisi-kisi 1 baris dan 2 kolom, dan memilih subplot pertama (di kiri atas).\n",
        "plot_graphs(history, 'accuracy') # Memanggil fungsi plot_graphs untuk membuat grafik akurasi.\n",
        "plt.ylim(None, 1) # Mengatur batas sumbu Y untuk grafik akurasi antara 0 dan 1 (maksimum untuk akurasi).\n",
        "plt.subplot(1, 2, 2) # Memilih subplot kedua (di kanan atas).\n",
        "plot_graphs(history, 'loss') # Memanggil fungsi plot_graphs untuk membuat grafik loss.\n",
        "plt.ylim(0, None) # Mengatur batas sumbu Y untuk grafik loss antara 0 dan tak terbatas (loss tidak memiliki nilai maksimum)."
      ]
    },
    {
      "cell_type": "markdown",
      "metadata": {
        "id": "fWgci6OCNo_P"
      },
      "source": [
        "Jalankan prediksi pada kalimat baru:\n",
        "Jika prediksi >= 0,0 berarti positif, jika tidak maka negatif."
      ]
    },
    {
      "cell_type": "code",
      "execution_count": null,
      "metadata": {
        "colab": {
          "base_uri": "https://localhost:8080/"
        },
        "id": "t3elNm2ONo_P",
        "outputId": "f05845f0-386d-4b71-e81b-09b7830ae40c"
      },
      "outputs": [
        {
          "name": "stdout",
          "output_type": "stream",
          "text": [
            "1/1 [==============================] - 2s 2s/step\n"
          ]
        }
      ],
      "source": [
        "# Menyiapkan sebuah teks ulasan film dan kemudian menggunakan model pembelajaran mesin untuk membuat prediksi berdasarkan ulasan\n",
        "sample_text = ('The movie was cool. The animation and the graphics '\n",
        "              'were out of this world. I would recommend this movie.')\n",
        "predictions = model.predict(np.array([sample_text]))"
      ]
    },
    {
      "cell_type": "markdown",
      "metadata": {
        "id": "yXecPp2BNo_P"
      },
      "source": [
        "#### **Stack two or more LSTM layers**\n",
        "\n",
        "Lapisan berulang Keras memiliki dua mode yang tersedia yang dikontrol oleh argumen konstruktor return_sequences :\n",
        "- Jika False, ia hanya mengembalikan keluaran terakhir untuk setiap urutan masukan (bentuk tensor 2D (batch_size, output_features)). Ini adalah default yang digunakan pada model sebelumnya.\n",
        "- Jika True, Sequence lengkap output berturut-turut untuk setiap langkah waktu dikembalikan (bentuk tensor 3D (ukuran_batch, langkah waktu, fitur_output)).\n",
        "\n",
        "Berikut adalah alur informasi dengan return_sequences=True:\n",
        "\n",
        "![alt text](bidirectional.png)\n",
        "\n",
        "###### <center>layered_bidirectional</center>\n",
        "\n",
        "Hal yang menarik dari penggunaan RNN dengan return_sequences=True adalah outputnya masih memiliki 3 axis, sama seperti inputnya, sehingga bisa diteruskan ke layer RNN lain, seperti ini:"
      ]
    },
    {
      "cell_type": "code",
      "execution_count": null,
      "metadata": {
        "id": "nuV83Vk1No_P"
      },
      "outputs": [],
      "source": [
        "# Membangun model jaringan saraf dengan lapisan embedding, dua lapisan LSTM bidirectional, lapisan fully connected, dan lapisan output.\n",
        "model = tf.keras.Sequential([\n",
        "    encoder,\n",
        "    tf.keras.layers.Embedding(len(encoder.get_vocabulary()), 64, mask_zero=True),\n",
        "    tf.keras.layers.Bidirectional(tf.keras.layers.LSTM(64, return_sequences=True)),\n",
        "    tf.keras.layers.Bidirectional(tf.keras.layers.LSTM(32)),\n",
        "    tf.keras.layers.Dense(64, activation='relu'),\n",
        "    tf.keras.layers.Dropout(0.5),\n",
        "    tf.keras.layers.Dense(1)\n",
        "])"
      ]
    },
    {
      "cell_type": "code",
      "execution_count": null,
      "metadata": {
        "id": "Rq1Uk-yjNo_P"
      },
      "outputs": [],
      "source": [
        "# Mengukur tingkat kesalahan prediksi menggunakan BinaryCrossentropy, memperbarui bobot model menggunakan optimizer Adam untuk meningkatkan prediksi dan memantau akurasi model selama pelatihan untuk mengevaluasi performanya.\n",
        "model.compile(loss=tf.keras.losses.BinaryCrossentropy(from_logits=True),\n",
        "              optimizer=tf.keras.optimizers.Adam(1e-4),\n",
        "              metrics=['accuracy'])"
      ]
    },
    {
      "cell_type": "code",
      "execution_count": null,
      "metadata": {
        "colab": {
          "base_uri": "https://localhost:8080/"
        },
        "id": "aJBQo8s3No_Q",
        "outputId": "bbd69aa6-0c65-4436-db43-4937cbed84d8"
      },
      "outputs": [
        {
          "name": "stdout",
          "output_type": "stream",
          "text": [
            "Epoch 1/10\n",
            "391/391 [==============================] - 78s 155ms/step - loss: 0.6398 - accuracy: 0.5694 - val_loss: 0.4312 - val_accuracy: 0.8052\n",
            "Epoch 2/10\n",
            "391/391 [==============================] - 47s 121ms/step - loss: 0.3872 - accuracy: 0.8313 - val_loss: 0.3500 - val_accuracy: 0.8448\n",
            "Epoch 3/10\n",
            "391/391 [==============================] - 47s 120ms/step - loss: 0.3353 - accuracy: 0.8564 - val_loss: 0.3389 - val_accuracy: 0.8448\n",
            "Epoch 4/10\n",
            "391/391 [==============================] - 46s 117ms/step - loss: 0.3229 - accuracy: 0.8612 - val_loss: 0.3260 - val_accuracy: 0.8578\n",
            "Epoch 5/10\n",
            "391/391 [==============================] - 49s 125ms/step - loss: 0.3158 - accuracy: 0.8640 - val_loss: 0.3250 - val_accuracy: 0.8630\n",
            "Epoch 6/10\n",
            "391/391 [==============================] - 46s 118ms/step - loss: 0.3081 - accuracy: 0.8671 - val_loss: 0.3238 - val_accuracy: 0.8635\n",
            "Epoch 7/10\n",
            "391/391 [==============================] - 45s 115ms/step - loss: 0.3027 - accuracy: 0.8696 - val_loss: 0.3244 - val_accuracy: 0.8505\n",
            "Epoch 8/10\n",
            "391/391 [==============================] - 46s 117ms/step - loss: 0.3005 - accuracy: 0.8707 - val_loss: 0.3215 - val_accuracy: 0.8479\n",
            "Epoch 9/10\n",
            "391/391 [==============================] - 45s 115ms/step - loss: 0.2980 - accuracy: 0.8725 - val_loss: 0.3532 - val_accuracy: 0.8214\n",
            "Epoch 10/10\n",
            "391/391 [==============================] - 45s 114ms/step - loss: 0.2974 - accuracy: 0.8714 - val_loss: 0.3195 - val_accuracy: 0.8474\n"
          ]
        }
      ],
      "source": [
        "# Melatih model pembelajaran mesin dengan menggunakan dataset yang diberikan.\n",
        "history = model.fit(train_dataset, epochs=10,\n",
        "                    validation_data=test_dataset,\n",
        "                    validation_steps=30)"
      ]
    },
    {
      "cell_type": "code",
      "execution_count": null,
      "metadata": {
        "colab": {
          "base_uri": "https://localhost:8080/"
        },
        "id": "ZlDvwbQrNo_X",
        "outputId": "fe619f83-235d-4825-df4b-897da0f5b498"
      },
      "outputs": [
        {
          "name": "stdout",
          "output_type": "stream",
          "text": [
            "391/391 [==============================] - 19s 48ms/step - loss: 0.3163 - accuracy: 0.8523\n",
            "Test Loss: 0.31630533933639526\n",
            "Test Accuracy: 0.8522800207138062\n"
          ]
        }
      ],
      "source": [
        "# Mengevaluasi kinerja model pembelajaran mesin pada kumpulan data pengujian.\n",
        "test_loss, test_acc = model.evaluate(test_dataset)\n",
        "\n",
        "print('Test Loss:', test_loss)\n",
        "print('Test Accuracy:', test_acc)"
      ]
    },
    {
      "cell_type": "code",
      "execution_count": null,
      "metadata": {
        "colab": {
          "base_uri": "https://localhost:8080/"
        },
        "id": "PS-0r4n8No_X",
        "outputId": "c9a51239-582e-4b06-cf5e-475066ba734b"
      },
      "outputs": [
        {
          "name": "stdout",
          "output_type": "stream",
          "text": [
            "1/1 [==============================] - 5s 5s/step\n",
            "[[-1.6020565]]\n"
          ]
        }
      ],
      "source": [
        "# predict on a sample text without padding.\n",
        "\n",
        "sample_text = ('The movie was not good. The animation and the graphics '\n",
        "              'were terrible. I would not recommend this movie.')\n",
        "predictions = model.predict(np.array([sample_text]))\n",
        "print(predictions)"
      ]
    },
    {
      "cell_type": "code",
      "execution_count": null,
      "metadata": {
        "colab": {
          "base_uri": "https://localhost:8080/",
          "height": 273
        },
        "id": "xAiHl-gCNo_X",
        "outputId": "e28dc017-572b-41f0-91f7-334d52911c84"
      },
      "outputs": [
        {
          "data": {
            "image/png": "[encoded data removed]",
            "text/plain": [
              "<Figure size 1600x600 with 2 Axes>"
            ]
          },
          "metadata": {},
          "output_type": "display_data"
        }
      ],
      "source": [
        "# Menghasilkan sebuah gambar yang menampilkan dua grafik, grafik pertama (di sebelah kiri) menunjukkan metrik akurasi selama pelatihan dan validasi dan grafik kedua (di sebelah kanan) menunjukkan metrik loss selama pelatihan dan validasi.\n",
        "plt.figure(figsize=(16, 6))\n",
        "plt.subplot(1, 2, 1)\n",
        "plot_graphs(history, 'accuracy')\n",
        "plt.subplot(1, 2, 2)\n",
        "plot_graphs(history, 'loss')"
      ]
    },
    {
      "cell_type": "markdown",
      "metadata": {
        "id": "IpYxFeBuNo_X"
      },
      "source": [
        "#### **Catatan**\n",
        "Informasi menarik lain terkait dengan [GRU layers](https://www.tensorflow.org/api_docs/python/tf/keras/layers/GRU).\n",
        "\n",
        "Informasi membuat custom RNN --> [Keras RNN Guide](https://www.tensorflow.org/guide/keras/working_with_rnns)."
      ]
    }
  ],
  "metadata": {
    "accelerator": "GPU",
    "colab": {
      "gpuType": "T4",
      "provenance": []
    },
    "kernelspec": {
      "display_name": "Python 3",
      "name": "python3"
    },
    "language_info": {
      "codemirror_mode": {
        "name": "ipython",
        "version": 3
      },
      "file_extension": ".py",
      "mimetype": "text/x-python",
      "name": "python",
      "nbconvert_exporter": "python",
      "pygments_lexer": "ipython3",
      "version": "3.11.6"
    }
  },
  "nbformat": 4,
  "nbformat_minor": 0
}
